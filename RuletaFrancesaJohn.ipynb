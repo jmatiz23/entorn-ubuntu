{
 "cells": [
  {
   "cell_type": "code",
   "execution_count": null,
   "id": "10dbe9bd-e1fb-40d6-8460-c69a73ccf149",
   "metadata": {},
   "outputs": [
    {
     "name": "stdin",
     "output_type": "stream",
     "text": [
      "Ingrese su edad:  18\n",
      "\n",
      "Pulsa una tecla para hacer la jugada número 1 \n"
     ]
    },
    {
     "name": "stdout",
     "output_type": "stream",
     "text": [
      "\n",
      "Número: 34\n",
      "Color: Negro\n",
      "Paridad: Par\n",
      "Falta o Pasa: Pasa\n",
      "Tercio: 3 tercio\n",
      "Columna: 1 columna\n"
     ]
    },
    {
     "name": "stdin",
     "output_type": "stream",
     "text": [
      "\n",
      "Pulsa una tecla para hacer la jugada número 2 \n"
     ]
    },
    {
     "name": "stdout",
     "output_type": "stream",
     "text": [
      "\n",
      "Número: 35\n",
      "Color: Negro\n",
      "Paridad: Impar\n",
      "Falta o Pasa: Pasa\n",
      "Tercio: 3 tercio\n",
      "Columna: 2 columna\n"
     ]
    },
    {
     "name": "stdin",
     "output_type": "stream",
     "text": [
      "\n",
      "Pulsa una tecla para hacer la jugada número 3 \n"
     ]
    },
    {
     "name": "stdout",
     "output_type": "stream",
     "text": [
      "\n",
      "Número: 10\n",
      "Color: Negro\n",
      "Paridad: Par\n",
      "Falta o Pasa: Falta\n",
      "Tercio: 1 tercio\n",
      "Columna: 1 columna\n"
     ]
    }
   ],
   "source": [
    "import random\n",
    "\n",
    "edad = int(input(\"Ingrese su edad: \"))\n",
    "\n",
    "if edad < 18:\n",
    "    print(\"Lo siento, debes ser mayor de edad para jugar.\")\n",
    "else:\n",
    "    jugada_numero = 1\n",
    "    while True:\n",
    "        input(f\"\\nPulsa una tecla para hacer la jugada número {jugada_numero}\")\n",
    "        numero_aleatorio = random.randint(0, 36)\n",
    "        \n",
    "        print(f\"\\nNúmero: {numero_aleatorio}\")\n",
    "\n",
    "        # Color\n",
    "        if numero_aleatorio == 0:\n",
    "            print(\"La banca gana\")\n",
    "        elif numero_aleatorio % 2 == 0:\n",
    "            print(\"Color: Rojo\" if numero_aleatorio // 2 % 2 == 0 else \"Color: Negro\")\n",
    "        else:\n",
    "            print(\"Color: Rojo\" if (numero_aleatorio - 1) // 2 % 2 == 0 else \"Color: Negro\")\n",
    "\n",
    "        # Paridad\n",
    "        print(\"Paridad:\", \"Par\" if numero_aleatorio % 2 == 0 else \"Impar\")\n",
    "\n",
    "        # Falta o Pasa\n",
    "        print(\"Falta o Pasa:\", \"Falta\" if 1 <= numero_aleatorio <= 18 else \"Pasa\")\n",
    "\n",
    "        # Tercio\n",
    "        tercio = (numero_aleatorio - 1) // 12 + 1\n",
    "        print(f\"Tercio: {tercio} tercio\")\n",
    "\n",
    "        # Columna\n",
    "        columna = (numero_aleatorio - 1) % 3 + 1\n",
    "        print(f\"Columna: {columna} columna\")\n",
    "\n",
    "        jugada_numero += 1\n"
   ]
  },
  {
   "cell_type": "code",
   "execution_count": null,
   "id": "a07f8e37-f9ba-42ce-8857-de739af54a5d",
   "metadata": {},
   "outputs": [],
   "source": []
  }
 ],
 "metadata": {
  "kernelspec": {
   "display_name": "Python 3 (ipykernel)",
   "language": "python",
   "name": "python3"
  },
  "language_info": {
   "codemirror_mode": {
    "name": "ipython",
    "version": 3
   },
   "file_extension": ".py",
   "mimetype": "text/x-python",
   "name": "python",
   "nbconvert_exporter": "python",
   "pygments_lexer": "ipython3",
   "version": "3.10.13"
  }
 },
 "nbformat": 4,
 "nbformat_minor": 5
}
